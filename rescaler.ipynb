{
 "cells": [
  {
   "cell_type": "code",
   "execution_count": 19,
   "metadata": {},
   "outputs": [
    {
     "name": "stdout",
     "output_type": "stream",
     "text": [
      "GPU is available!\n"
     ]
    }
   ],
   "source": [
    "import numpy as np\n",
    "import tensorflow as tf\n",
    "import pathlib\n",
    "import matplotlib.pyplot as plt\n",
    "from tensorflow import keras\n",
    "import os\n",
    "from tensorflow.keras.models import Sequential\n",
    "from tensorflow.keras.layers import Conv2D, MaxPooling2D, UpSampling2D, Input, BatchNormalization, Dropout\n",
    "from tensorflow.keras.preprocessing.image import ImageDataGenerator\n",
    "\n",
    "# code to make tensors run on GPU\n",
    "def set_gpu_device():\n",
    "    physical_devices = tf.config.list_physical_devices('GPU')\n",
    "    if physical_devices:\n",
    "        tf.config.set_visible_devices(physical_devices[0], 'GPU')\n",
    "        tf.config.experimental.set_memory_growth(physical_devices[0], True)\n",
    "\n",
    "# Calling the function to set GPU device\n",
    "set_gpu_device()\n",
    "if tf.config.list_physical_devices('GPU'):\n",
    "    print(\"GPU is available!\")\n",
    "else:\n",
    "    print(\"No GPU found. TensorFlow will use the CPU.\")"
   ]
  },
  {
   "cell_type": "code",
   "execution_count": 27,
   "metadata": {},
   "outputs": [],
   "source": [
    "# seting path to the dataset\n",
    "train_data = pathlib.Path('animal_dataset/leopard/train/')\n",
    "test_data = pathlib.Path('animal_dataset/leopard/test/')\n",
    "valid_data = pathlib.Path('animal_dataset/leopard/valid/')"
   ]
  },
  {
   "cell_type": "code",
   "execution_count": 28,
   "metadata": {},
   "outputs": [],
   "source": [
    "datagen = ImageDataGenerator(\n",
    "    rotation_range = 30,\n",
    "    zoom_range = 0.2,\n",
    "    width_shift_range = 0.2,\n",
    "    shear_range = 0.15,\n",
    "    # horizontal_flip= True\n",
    "    fill_mode= 'nearest'\n",
    ")\n",
    "\n",
    "val_datagen = ImageDataGenerator()\n",
    "test_datagen = ImageDataGenerator()\n",
    "\n",
    "#! I dont know why he is taking this mean for so i am goona keep it out\n",
    "\n",
    "# mean = np.array([123.68, 116.779, 103.939], dtype=\"float32\")\n",
    "# trainAug.mean = mean\n",
    "# valAug.mean = mean\n",
    "# testAug.mean = mean"
   ]
  },
  {
   "cell_type": "code",
   "execution_count": 35,
   "metadata": {},
   "outputs": [
    {
     "name": "stdout",
     "output_type": "stream",
     "text": [
      "Found 0 images belonging to 1 classes.\n",
      "Found 0 images belonging to 1 classes.\n"
     ]
    }
   ],
   "source": [
    "# initializing the train data generator\n",
    "batch_size = 32\n",
    "\n",
    "\n",
    "datagen = ImageDataGenerator()\n",
    "\n",
    "test_data = datagen.flow_from_directory('.', classes=['test'])\n",
    "\n",
    "trainGen = datagen.flow_from_directory(\n",
    "    directory =train_data,\n",
    "    class_mode=None,\n",
    "    target_size=(224, 224),\n",
    "    color_mode=\"rgb\",\n",
    "    # shuffle=false,\n",
    "    batch_size=batch_size,\n",
    "    classes=['leopard'])\n",
    "# # initialize the validation generator\n",
    "# valGen = val_datagen.flow_from_directory(\n",
    "#     valid_data,\n",
    "#     class_mode=None,\n",
    "#     target_size=(224, 224),\n",
    "#     color_mode=\"rgb\",\n",
    "#     shuffle=False,\n",
    "#     batch_size=batch_size)\n",
    "# # initialize the testing generator\n",
    "# testGen = valid_data.flow_from_directory(\n",
    "#     test_data,\n",
    "#     class_mode=None,\n",
    "#     target_size=(224, 224),\n",
    "#     color_mode=\"rgb\",\n",
    "#     shuffle=False,\n",
    "#     batch_size=batch_size)"
   ]
  },
  {
   "cell_type": "code",
   "execution_count": null,
   "metadata": {},
   "outputs": [],
   "source": []
  }
 ],
 "metadata": {
  "kernelspec": {
   "display_name": "Python 3",
   "language": "python",
   "name": "python3"
  },
  "language_info": {
   "codemirror_mode": {
    "name": "ipython",
    "version": 3
   },
   "file_extension": ".py",
   "mimetype": "text/x-python",
   "name": "python",
   "nbconvert_exporter": "python",
   "pygments_lexer": "ipython3",
   "version": "3.10.11"
  }
 },
 "nbformat": 4,
 "nbformat_minor": 2
}
