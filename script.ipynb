{
 "cells": [
  {
   "cell_type": "code",
   "execution_count": 4,
   "metadata": {},
   "outputs": [
    {
     "name": "stdout",
     "output_type": "stream",
     "text": [
      "Data copy success!\n"
     ]
    }
   ],
   "source": [
    "import os\n",
    "import shutil\n",
    "import random\n",
    "\n",
    "\n",
    "source_folder = \"./animal_dataset\"\n",
    "destination_folder = 'new_dataset'\n",
    "\n",
    "animal_species = [\"Amur_Leopard\", \"Arctic_Fox\", \"belgua\", \"cheetahs\", \"Chimpanzee\", \"heyna\", \n",
    "                  \"Jaguars\", \"leopard\", \"Lion\", \"Orangutan\", \"Panda\", \"Panthers\", \"Rhino\",\"whaleshark\"]\n",
    "\n",
    "sub_folder = ['train', 'test', 'valid']\n",
    "\n",
    "if not os.path.exists(destination_folder):\n",
    "    os.makedirs(destination_folder)\n",
    "\n",
    "\n",
    "for animal in animal_species:\n",
    "    for sub in sub_folder:\n",
    "        source = os.path.join(source_folder, animal, sub)\n",
    "        destination_path = os.path.join(destination_folder,sub, animal)\n",
    "        \n",
    "        if not os.path.exists(destination_path):\n",
    "            os.makedirs(destination_path)\n",
    "        \n",
    "        for file_name in os.listdir(source):\n",
    "            source_file_path = os.path.join(source, file_name)\n",
    "            destination_file_path = os.path.join(destination_path, file_name)\n",
    "            shutil.copy2(source_file_path, destination_file_path)\n",
    "print('Data copy success!')"
   ]
  },
  {
   "cell_type": "code",
   "execution_count": 2,
   "metadata": {},
   "outputs": [
    {
     "name": "stdout",
     "output_type": "stream",
     "text": [
      "Dataset creation and distribution completed.\n"
     ]
    }
   ],
   "source": []
  },
  {
   "cell_type": "code",
   "execution_count": null,
   "metadata": {},
   "outputs": [],
   "source": []
  }
 ],
 "metadata": {
  "kernelspec": {
   "display_name": "Python 3",
   "language": "python",
   "name": "python3"
  },
  "language_info": {
   "codemirror_mode": {
    "name": "ipython",
    "version": 3
   },
   "file_extension": ".py",
   "mimetype": "text/x-python",
   "name": "python",
   "nbconvert_exporter": "python",
   "pygments_lexer": "ipython3",
   "version": "3.10.11"
  }
 },
 "nbformat": 4,
 "nbformat_minor": 2
}
