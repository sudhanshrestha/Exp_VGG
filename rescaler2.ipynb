{
 "cells": [
  {
   "cell_type": "markdown",
   "metadata": {},
   "source": [
    "### This one is the image brightner"
   ]
  },
  {
   "cell_type": "code",
   "execution_count": 11,
   "metadata": {},
   "outputs": [
    {
     "name": "stdout",
     "output_type": "stream",
     "text": [
      "Enhancement and preprocessing completed.\n"
     ]
    }
   ],
   "source": [
    "import cv2\n",
    "import os\n",
    "import numpy as np\n",
    "\n",
    "# Path to the folder containing your images\n",
    "image_folder = \"inp/\"\n",
    "\n",
    "# Output folder where enhanced images will be saved\n",
    "output_folder = \"./result\"\n",
    "\n",
    "# Define the desired image size (e.g., 224x224)\n",
    "image_size = (224, 224)\n",
    "\n",
    "# Function to preprocess and enhance an image\n",
    "def preprocess_and_enhance_image(image):\n",
    "    # Resize the image to the desired size\n",
    "    image = cv2.resize(image, image_size)\n",
    "\n",
    "    # Normalize pixel values to [0, 1]\n",
    "    #image = image / 255.0\n",
    "\n",
    "    # Adjust brightness (increase or decrease value as needed)\n",
    "    brightness = 2  # Adjust this value (e.g., 1.1 for slightly brighter)\n",
    "    enhanced_image = cv2.convertScaleAbs(image, alpha=brightness, beta=0)\n",
    "\n",
    "    # Enhance sharpness (increase or decrease kernel size and strength as needed)\n",
    "    kernel_size = (1, 1)  # Adjust this value (e.g., (5, 5) for more sharpness)\n",
    "    sharpened_image = cv2.GaussianBlur(enhanced_image, kernel_size, 500)\n",
    "\n",
    "    # Adjust contrast (increase or decrease value as needed)\n",
    "    contrast = 1.2  # Adjust this value (e.g., 1.2 for slightly more contrast)\n",
    "    contrasted_image = cv2.convertScaleAbs(sharpened_image, alpha=contrast, beta=0)\n",
    "\n",
    "    return contrasted_image\n",
    "\n",
    "# Create the output folder if it doesn't exist\n",
    "os.makedirs(output_folder, exist_ok=True)\n",
    "\n",
    "# Iterate through all image files in the input folder\n",
    "for filename in os.listdir(image_folder):\n",
    "    if filename.endswith(\".jpg\"):\n",
    "        # Load the image\n",
    "        image_path = os.path.join(image_folder, filename)\n",
    "        image = cv2.imread(image_path)\n",
    "\n",
    "        # Preprocess and enhance the image\n",
    "        enhanced_image = preprocess_and_enhance_image(image)\n",
    "        # gray_image = cv2.cvtColor(enhanced_image, cv2.COLOR_BGR2GRAY)\n",
    "\n",
    "        # Save the enhanced image to the output folder\n",
    "        output_path = os.path.join(output_folder, filename)\n",
    "        cv2.imwrite(output_path, enhanced_image)\n",
    "\n",
    "print(\"Enhancement and preprocessing completed.\")"
   ]
  },
  {
   "cell_type": "code",
   "execution_count": 50,
   "metadata": {},
   "outputs": [
    {
     "name": "stdout",
     "output_type": "stream",
     "text": [
      "Collecting colorcorrect"
     ]
    },
    {
     "name": "stderr",
     "output_type": "stream",
     "text": [
      "WARNING: Ignoring invalid distribution -rotobuf (c:\\users\\sudha\\py10\\lib\\site-packages)\n",
      "WARNING: Ignoring invalid distribution -rotobuf (c:\\users\\sudha\\py10\\lib\\site-packages)\n",
      "\n",
      "[notice] A new release of pip is available: 23.2.1 -> 23.3\n",
      "[notice] To update, run: python.exe -m pip install --upgrade pip\n"
     ]
    },
    {
     "name": "stdout",
     "output_type": "stream",
     "text": [
      "\n",
      "  Downloading colorcorrect-0.9.1.tar.gz (8.0 kB)\n",
      "  Preparing metadata (setup.py): started\n",
      "  Preparing metadata (setup.py): finished with status 'done'\n",
      "Requirement already satisfied: numpy in c:\\users\\sudha\\py10\\lib\\site-packages (from colorcorrect) (1.23.5)\n",
      "Requirement already satisfied: Pillow in c:\\users\\sudha\\py10\\lib\\site-packages (from colorcorrect) (10.0.0)\n",
      "Requirement already satisfied: six in c:\\users\\sudha\\py10\\lib\\site-packages (from colorcorrect) (1.16.0)\n",
      "Building wheels for collected packages: colorcorrect\n",
      "  Building wheel for colorcorrect (setup.py): started\n",
      "  Building wheel for colorcorrect (setup.py): finished with status 'done'\n",
      "  Created wheel for colorcorrect: filename=colorcorrect-0.9.1-cp310-cp310-win_amd64.whl size=16595 sha256=4a1d57356a1346a9dee0537f9735d051aea7aa2fc422173460700aa7a483c1b7\n",
      "  Stored in directory: c:\\users\\sudha\\appdata\\local\\pip\\cache\\wheels\\c4\\31\\70\\d73db628612c50b29dc363e9906eb76489e27e5f4d6439ac14\n",
      "Successfully built colorcorrect\n",
      "Installing collected packages: colorcorrect\n",
      "Successfully installed colorcorrect-0.9.1\n"
     ]
    }
   ],
   "source": [
    "!pip install colorcorrect"
   ]
  },
  {
   "cell_type": "code",
   "execution_count": null,
   "metadata": {},
   "outputs": [],
   "source": []
  },
  {
   "cell_type": "code",
   "execution_count": 1,
   "metadata": {},
   "outputs": [
    {
     "name": "stdout",
     "output_type": "stream",
     "text": [
      "Requirement already satisfied: colorcorrect in c:\\users\\sudha\\py10\\lib\\site-packages (0.9.1)\n",
      "Requirement already satisfied: numpy in c:\\users\\sudha\\py10\\lib\\site-packages (from colorcorrect) (1.23.5)\n",
      "Requirement already satisfied: Pillow in c:\\users\\sudha\\py10\\lib\\site-packages (from colorcorrect) (10.0.0)\n",
      "Requirement already satisfied: six in c:\\users\\sudha\\py10\\lib\\site-packages (from colorcorrect) (1.16.0)\n"
     ]
    },
    {
     "name": "stderr",
     "output_type": "stream",
     "text": [
      "WARNING: Ignoring invalid distribution -rotobuf (c:\\users\\sudha\\py10\\lib\\site-packages)\n",
      "WARNING: Ignoring invalid distribution -rotobuf (c:\\users\\sudha\\py10\\lib\\site-packages)\n",
      "\n",
      "[notice] A new release of pip is available: 23.2.1 -> 23.3\n",
      "[notice] To update, run: python.exe -m pip install --upgrade pip\n"
     ]
    }
   ],
   "source": [
    "!pip install colorcorrect"
   ]
  },
  {
   "cell_type": "code",
   "execution_count": 7,
   "metadata": {},
   "outputs": [
    {
     "name": "stdout",
     "output_type": "stream",
     "text": [
      "Enhancement and preprocessing completed.\n"
     ]
    }
   ],
   "source": [
    "# import cv2\n",
    "# import os\n",
    "# import numpy as np\n",
    "# import colorcorrect \n",
    "# # Path to the folder containing your images\n",
    "# image_folder = \"inp/\"\n",
    "\n",
    "# # Output folder where enhanced images will be saved\n",
    "# output_folder = \"./result\"\n",
    "\n",
    "# # Define the desired image size (e.g., 224x224)\n",
    "# image_size = (224, 224)\n",
    "\n",
    "# # Function to preprocess and enhance an image\n",
    "# def preprocess_and_enhance_image(image):\n",
    "#     # Resize the image to the desired size\n",
    "#     image = cv2.resize(image, image_size)\n",
    "\n",
    "#     # Normalize pixel values to [0, 1]\n",
    "#     # image = image / 255.0\n",
    "\n",
    "#     # Adjust brightness (increase or decrease value as needed)\n",
    "#     brightness = 1.2\n",
    "#     enhanced_image = cv2.convertScaleAbs(image, alpha=brightness, beta=0)\n",
    "\n",
    "#     # Enhance sharpness by increasing kernel size\n",
    "#     kernel_size = (9, 9)  # Adjust the kernel size as needed\n",
    "#     sharpened_image = cv2.GaussianBlur(enhanced_image, kernel_size, 10)\n",
    "\n",
    "#     # Adjust contrast (increase or decrease value as needed)\n",
    "#     contrast = 1.2\n",
    "#     contrasted_image = cv2.convertScaleAbs(sharpened_image, alpha=contrast, beta=0)\n",
    "\n",
    "#     # Enhance saturation (increase or decrease value as needed)\n",
    "#     saturation = 1.5\n",
    "#     saturated_image = cv2.cvtColor(contrasted_image, cv2.COLOR_BGR2HSV)\n",
    "#     saturated_image[:, :, 1] = cv2.convertScaleAbs(saturated_image[:, :, 1], alpha=saturation, beta=0)\n",
    "#     saturated_image = cv2.cvtColor(saturated_image, cv2.COLOR_HSV2BGR)\n",
    "\n",
    "#     # Color correction\n",
    "#     # corrected_image = cv2.xphoto.createSimpleWB().balanceWhite(saturated_image)\n",
    "\n",
    "#     # Histogram equalization for enhancing details (adjust parameters as needed)\n",
    "#     corrected_image = cv2.cvtColor(saturated_image, cv2.COLOR_BGR2GRAY)\n",
    "#     equalized_image = cv2.equalizeHist(corrected_image)\n",
    "#     equalized_image = cv2.cvtColor(equalized_image, cv2.COLOR_GRAY2BGR)\n",
    "\n",
    "#     # Gamma correction (increase or decrease gamma as needed)\n",
    "#     gamma = 1.2\n",
    "#     gamma_corrected = np.clip(equalized_image ** gamma, 0, 1)\n",
    "\n",
    "#     return gamma_corrected\n",
    "\n",
    "# # Create the output folder if it doesn't exist\n",
    "# os.makedirs(output_folder, exist_ok=True)\n",
    "\n",
    "# # Iterate through all image files in the input folder\n",
    "# for filename in os.listdir(image_folder):\n",
    "#     if filename.endswith(\".jpg\"):\n",
    "#         # Load the image\n",
    "#         image_path = os.path.join(image_folder, filename)\n",
    "#         image = cv2.imread(image_path)\n",
    "\n",
    "#         # Preprocess and enhance the image\n",
    "#         enhanced_image = preprocess_and_enhance_image(image)\n",
    "\n",
    "#         # Save the enhanced image to the output folder\n",
    "#         output_path = os.path.join(output_folder, filename)\n",
    "#         cv2.imwrite(output_path, enhanced_image)\n",
    "\n",
    "# print(\"Enhancement and preprocessing completed.\")"
   ]
  },
  {
   "cell_type": "code",
   "execution_count": null,
   "metadata": {},
   "outputs": [],
   "source": []
  }
 ],
 "metadata": {
  "kernelspec": {
   "display_name": "py10",
   "language": "python",
   "name": "python3"
  },
  "language_info": {
   "codemirror_mode": {
    "name": "ipython",
    "version": 3
   },
   "file_extension": ".py",
   "mimetype": "text/x-python",
   "name": "python",
   "nbconvert_exporter": "python",
   "pygments_lexer": "ipython3",
   "version": "3.10.11"
  }
 },
 "nbformat": 4,
 "nbformat_minor": 2
}
